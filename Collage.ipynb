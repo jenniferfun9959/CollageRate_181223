import pandas as pd
import numpy as np


MyFile=pd.read_csv("./opendata106Y020_new.csv",header=1)


town=np.array([])
village=np.array([])
collage=np.array([])

for a in np.arange(7851):
    temp=0
    temp=int(MyFile.loc[a,"大畢_男 "]+MyFile.loc[a,"大畢_女 "])
    collage=np.append(collage,int(temp))
    
    town=np.append(town,MyFile.loc[a,"區域別 "])
    village=np.append(village,MyFile.loc[a,"村里名稱 "])



table2={
    "town":town,
    "village":village,
    "collage":collage
}

table2=pd.DataFrame(table2)


table3=table2.groupby('town',as_index=False)["collage"].sum()


table3.loc[330,"town"]="高雄市三民區"
table3.loc[331,"town"]="高雄市三民區"
table3.loc[366,"town"]="高雄市鳳山區"
table3.loc[367,"town"]="高雄市鳳山區"
table3=table3.groupby('town',as_index=False)["collage"].sum()


for x in np.arange(368):
    tempname=table3.loc[x,"town"]
    if tempname[4]=='\u3000':
        newname=tempname[0:4]+tempname[5:]
        table3.loc[x,"town"]=newname
        
        
        
#輸出資料
table3.to_csv("./collage106.csv")
