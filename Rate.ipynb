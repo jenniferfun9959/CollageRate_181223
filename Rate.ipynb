import pandas as pd
import numpy as np


CTable=pd.read_csv("./collage106.csv")
PTable=pd.read_csv("./population106.csv")

Ntown=np.array([])
Ncollage=np.array([])
Npopulation=np.array([])
Nrate=np.array([])

for p in np.arange(368):
    for c in np.arange(368):
        if PTable.loc[p,"Town"]==CTable.loc[c,"town"]:
            Ntown=np.append(Ntown,PTable.loc[p,"Town"])
            Ncollage=np.append(Ncollage,CTable.loc[c,"collage"])
            Npopulation=np.append(Npopulation,PTable.loc[p,"Population"])
            rate=CTable.loc[c,"collage"]/PTable.loc[p,"Population"]
            Nrate=np.append(Nrate,rate)
            



frame={
    "Town":Ntown,
    "Population":Npopulation,
    "CollagePopulation":Ncollage,
    "CollageRate":Nrate,

}

frame=pd.DataFrame(frame)



#輸出資料
frame.to_csv("./CollageRate106.csv",index=False)
